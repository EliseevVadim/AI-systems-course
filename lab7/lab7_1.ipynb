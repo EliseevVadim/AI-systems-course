{
 "cells": [
  {
   "cell_type": "markdown",
   "id": "ca785264",
   "metadata": {},
   "source": [
    "# Задание 1\n",
    "\n",
    "### _Задача:_\n",
    "\n",
    "Оценить следующие 4 варианта вложения денег: приобретение акций, \n",
    "оформление депозита, приобретение облигаций, приобретение драгоценных \n",
    "металлов по критерию «надежность вложения денег». По результатам \n",
    "парных сравнений установлено, что 2-й вариант ненамного лучше 1-го и 3-го \n",
    "и намного лучше 4-го, 1-й вариант имеет одинаковую надежность с 3-им и \n",
    "ненамного лучше 4-го, преимущество 3го над 4-тым – между слабым и \n",
    "существенным.\n",
    "\n",
    "Для данной задачи необходимо:\n",
    "\n",
    "- построить мультипликативную матрицу парных сравнений МПС, при условии что эксперт выставляет оценки в соответствии с фундаментальной шкалой;\n",
    "\n",
    "- для заданной МПС D выполнить расчет главного собственного числа и подчиненного ему главного вектора;\n",
    "\n",
    "- найти веса альтернатив используя методы парных сравнений ЕМ, RGMM, AN и «линия» (рассмотреть все эталоны);\n",
    "\n",
    "- рассчитать отношения согласованности CR, геометрический индекс согласованности GCI и гармонические отношения согласованности HCR;\n",
    "\n",
    "- оценить согласованность МПС по спектральному коэффициенту согласованности приняв за Rh - спектр, построенный для множества оценок весов, полученных из матриц, порожденных из A методом «линия», h=1,…, n.\n",
    "\n",
    "- оценить полученные результаты.\n"
   ]
  },
  {
   "cell_type": "code",
   "execution_count": 1,
   "id": "84f9e983",
   "metadata": {},
   "outputs": [],
   "source": [
    "# импорт необходимых зависимостей\n",
    "import numpy as np\n",
    "import statistics\n",
    "import math"
   ]
  },
  {
   "cell_type": "code",
   "execution_count": 2,
   "id": "80f77d10",
   "metadata": {},
   "outputs": [],
   "source": [
    "# построение мультипликативной МПС\n",
    "matrix = np.array([\n",
    "        [1, 1/3, 1, 3],\n",
    "        [3, 1, 3, 7],\n",
    "        [1, 1/3, 1, 4],\n",
    "        [1/3, 1/7, 1/4, 1]\n",
    "    ])"
   ]
  },
  {
   "cell_type": "markdown",
   "id": "a2d78c8c",
   "metadata": {},
   "source": [
    "#### Поиск весов альтернатив методом EM:"
   ]
  },
  {
   "cell_type": "code",
   "execution_count": 3,
   "id": "3166c263",
   "metadata": {},
   "outputs": [],
   "source": [
    "# получение собственных чисел и векторов исходной матрицы\n",
    "l, v = np.linalg.eig(matrix)"
   ]
  },
  {
   "cell_type": "code",
   "execution_count": 4,
   "id": "1cdcd643",
   "metadata": {},
   "outputs": [
    {
     "data": {
      "text/plain": [
       "4.027401082293499"
      ]
     },
     "execution_count": 4,
     "metadata": {},
     "output_type": "execute_result"
    }
   ],
   "source": [
    "# определение максимального (главного) собственного числа матрицы и избавление (по возможности) от мнимой части\n",
    "lmax = np.max(l)\n",
    "lmax = (lmax, lmax.real)[bool(lmax.imag == 0j)]\n",
    "lmax"
   ]
  },
  {
   "cell_type": "code",
   "execution_count": 5,
   "id": "f1dace20",
   "metadata": {},
   "outputs": [
    {
     "data": {
      "text/plain": [
       "array([[ 0.31131963+0.j        , -0.55517491+0.j        ,\n",
       "        -0.07413203-0.10604736j, -0.07413203+0.10604736j]])"
      ]
     },
     "execution_count": 5,
     "metadata": {},
     "output_type": "execute_result"
    }
   ],
   "source": [
    "# определение главного собственного вектора матрицы, и соответственно вектора весов\n",
    "vmax = v[np.where(l == lmax)]\n",
    "vmax"
   ]
  },
  {
   "cell_type": "code",
   "execution_count": 6,
   "id": "2b443f20",
   "metadata": {},
   "outputs": [
    {
     "data": {
      "text/plain": [
       "0.00913369409783312"
      ]
     },
     "execution_count": 6,
     "metadata": {},
     "output_type": "execute_result"
    }
   ],
   "source": [
    "# вычисление индекса согласованности\n",
    "n = np.shape(matrix)[0]\n",
    "ci = (lmax - n) / (n - 1)\n",
    "ci"
   ]
  },
  {
   "cell_type": "code",
   "execution_count": 7,
   "id": "69f2ca38",
   "metadata": {},
   "outputs": [
    {
     "data": {
      "text/plain": [
       "0.01026257763801474"
      ]
     },
     "execution_count": 7,
     "metadata": {},
     "output_type": "execute_result"
    }
   ],
   "source": [
    "# вычисление отношения согласованности\n",
    "a_mrci = 0.89 # константное значение для n = 4\n",
    "cr = ci / a_mrci\n",
    "cr"
   ]
  },
  {
   "cell_type": "markdown",
   "id": "82c8001e",
   "metadata": {},
   "source": [
    "#### Поиск весов альтернатив методом RGMM:"
   ]
  },
  {
   "cell_type": "code",
   "execution_count": 8,
   "id": "726bc690",
   "metadata": {},
   "outputs": [
    {
     "data": {
      "text/plain": [
       "[1.0, 2.8173132472612576, 1.074569931823542, 0.3303164318013807]"
      ]
     },
     "execution_count": 8,
     "metadata": {},
     "output_type": "execute_result"
    }
   ],
   "source": [
    "# поиск вектора средних геометрических строк матрицы\n",
    "v_means = [statistics.geometric_mean(row) for row in matrix]\n",
    "v_means"
   ]
  },
  {
   "cell_type": "code",
   "execution_count": 9,
   "id": "5ddbfa23",
   "metadata": {},
   "outputs": [
    {
     "data": {
      "text/plain": [
       "array([0.19149019, 0.53948785, 0.2057696 , 0.06325236])"
      ]
     },
     "execution_count": 9,
     "metadata": {},
     "output_type": "execute_result"
    }
   ],
   "source": [
    "# нормировка и получение вектора весов\n",
    "v_means_sum = np.sum(v_means)\n",
    "rgmm_weights = v_means / v_means_sum\n",
    "rgmm_weights"
   ]
  },
  {
   "cell_type": "code",
   "execution_count": 10,
   "id": "6a8b02de",
   "metadata": {},
   "outputs": [
    {
     "data": {
      "text/plain": [
       "2.9605947323337506e-16"
      ]
     },
     "execution_count": 10,
     "metadata": {},
     "output_type": "execute_result"
    }
   ],
   "source": [
    "# вычисление геометрического индекса согласованности\n",
    "errors_matrix = np.zeros_like(matrix)\n",
    "for i in range(np.shape(matrix)[0]):\n",
    "    for j in range(np.shape(matrix)[0]):\n",
    "        errors_matrix[i][j] = matrix[i][j] * (v_means[i] / v_means[j])\n",
    "errors_matrix = np.log2(errors_matrix)\n",
    "gci_multiplier = np.sum(errors_matrix)\n",
    "gci = (2 * gci_multiplier) / ((n - 1) * (n - 2))\n",
    "gci"
   ]
  },
  {
   "cell_type": "markdown",
   "id": "aa3458f2",
   "metadata": {},
   "source": [
    "#### Поиск весов альтернатив методом AN:"
   ]
  },
  {
   "cell_type": "code",
   "execution_count": 11,
   "id": "b61fb7b2",
   "metadata": {},
   "outputs": [
    {
     "data": {
      "text/plain": [
       "array([0.1875    , 0.55263158, 0.19047619, 0.06666667])"
      ]
     },
     "execution_count": 11,
     "metadata": {},
     "output_type": "execute_result"
    }
   ],
   "source": [
    "# получение вектора весов\n",
    "an_columns_sums = matrix.sum(axis=0)\n",
    "an_weights = an_columns_sums ** -1\n",
    "an_weights"
   ]
  },
  {
   "cell_type": "code",
   "execution_count": 12,
   "id": "1b973fab",
   "metadata": {},
   "outputs": [
    {
     "data": {
      "text/plain": [
       "0.004555021518550066"
      ]
     },
     "execution_count": 12,
     "metadata": {},
     "output_type": "execute_result"
    }
   ],
   "source": [
    "# вычисление гармонического индекса согласованности\n",
    "hm = n / np.sum(an_weights)\n",
    "hci = ((hm - n) * (n + 1)) / (n * (n - 1))\n",
    "hci"
   ]
  },
  {
   "cell_type": "code",
   "execution_count": 13,
   "id": "b15e51d1",
   "metadata": {},
   "outputs": [
    {
     "data": {
      "text/plain": [
       "0.005118001706236029"
      ]
     },
     "execution_count": 13,
     "metadata": {},
     "output_type": "execute_result"
    }
   ],
   "source": [
    "# вычисление гармонического отношения согласованности\n",
    "hcr = hci / a_mrci\n",
    "hcr"
   ]
  },
  {
   "cell_type": "markdown",
   "id": "39a00502",
   "metadata": {},
   "source": [
    "#### Поиск весов альтернатив методом \"линия\":"
   ]
  },
  {
   "cell_type": "code",
   "execution_count": 14,
   "id": "582518c8",
   "metadata": {},
   "outputs": [
    {
     "data": {
      "text/plain": [
       "array([[[ 1.        ,  0.33333333,  1.        ,  3.        ],\n",
       "        [ 3.        ,  0.33333333,  3.        , 21.        ],\n",
       "        [ 1.        ,  0.11111111,  1.        , 12.        ],\n",
       "        [ 0.33333333,  0.04761905,  0.25      ,  3.        ]],\n",
       "\n",
       "       [[ 3.        ,  0.33333333,  3.        , 21.        ],\n",
       "        [ 3.        ,  1.        ,  3.        ,  7.        ],\n",
       "        [ 3.        ,  0.33333333,  3.        , 28.        ],\n",
       "        [ 1.        ,  0.14285714,  0.75      ,  7.        ]],\n",
       "\n",
       "       [[ 1.        ,  0.11111111,  1.        , 12.        ],\n",
       "        [ 3.        ,  0.33333333,  3.        , 28.        ],\n",
       "        [ 1.        ,  0.33333333,  1.        ,  4.        ],\n",
       "        [ 0.33333333,  0.04761905,  0.25      ,  4.        ]],\n",
       "\n",
       "       [[ 0.33333333,  0.04761905,  0.25      ,  3.        ],\n",
       "        [ 1.        ,  0.14285714,  0.75      ,  7.        ],\n",
       "        [ 0.33333333,  0.04761905,  0.25      ,  4.        ],\n",
       "        [ 0.33333333,  0.14285714,  0.25      ,  1.        ]]])"
      ]
     },
     "execution_count": 14,
     "metadata": {},
     "output_type": "execute_result"
    }
   ],
   "source": [
    "# инициализация и заполнения матриц, полученных перемножением i-й строки на все остальные, кроме самой себя\n",
    "standard_matrix = []\n",
    "for i in range(np.shape(matrix)[0]):\n",
    "    addition = np.copy(matrix)\n",
    "    addition = np.delete(addition, i, axis=0)\n",
    "    addition *= matrix[i]\n",
    "    addition = np.insert(addition, i, matrix[i], axis=0)\n",
    "    standard_matrix.append(addition)\n",
    "standard_matrix = np.array(standard_matrix)\n",
    "standard_matrix"
   ]
  },
  {
   "cell_type": "code",
   "execution_count": 15,
   "id": "2d34e930",
   "metadata": {},
   "outputs": [
    {
     "data": {
      "text/plain": [
       "array([[0.1875    , 0.40384615, 0.19047619, 0.07692308],\n",
       "       [0.3       , 0.55263158, 0.30769231, 0.11111111],\n",
       "       [0.1875    , 0.40384615, 0.19047619, 0.08333333],\n",
       "       [0.16666667, 0.375     , 0.16666667, 0.06666667]])"
      ]
     },
     "execution_count": 15,
     "metadata": {},
     "output_type": "execute_result"
    }
   ],
   "source": [
    "# заполнение матрицы весов альтернатив найденных методом линия\n",
    "standard_matrix_weights = []\n",
    "for i in range(len(standard_matrix)):\n",
    "    column_sum = standard_matrix[i].sum(axis=0)\n",
    "    weights_addition = standard_matrix[i][i] / column_sum\n",
    "    standard_matrix_weights.append(weights_addition)\n",
    "standard_matrix_weights = np.array(standard_matrix_weights)\n",
    "standard_matrix_weights"
   ]
  },
  {
   "cell_type": "markdown",
   "id": "d4e1436c",
   "metadata": {},
   "source": [
    "#### Оценка согласованности МПС по спектральному коэффициенту согласованности (спектр Rh - строка полученной ранее матрицы весов)"
   ]
  },
  {
   "cell_type": "code",
   "execution_count": 16,
   "id": "46228437",
   "metadata": {},
   "outputs": [],
   "source": [
    "# вычисление масштабного коэффициента и средней оценки множества ЭО\n",
    "k_n = np.shape(standard_matrix_weights)[0]\n",
    "k_m = np.shape(standard_matrix_weights)[1]\n",
    "g = k_m / (math.log(k_m) * k_n * math.log(k_n))\n",
    "a = np.mean(standard_matrix_weights)"
   ]
  },
  {
   "cell_type": "code",
   "execution_count": 17,
   "id": "e771dc44",
   "metadata": {},
   "outputs": [
    {
     "data": {
      "text/plain": [
       "array([0.79405418, 0.7240821 , 0.79177369, 0.81041681])"
      ]
     },
     "execution_count": 17,
     "metadata": {},
     "output_type": "execute_result"
    }
   ],
   "source": [
    "# вычисление спектральных коэффициентов согласованности для матрицы (i-й коэффициент соответствует i-й строке)\n",
    "concordance_coefficients = []\n",
    "for row in standard_matrix_weights:\n",
    "    first_nom_part = 0\n",
    "    second_nom_part = 0\n",
    "    first_denominator_part = 0\n",
    "    for i in range(k_n):\n",
    "        first_nom_part += (row[i] * math.fabs(i - a))\n",
    "        second_nom_part += ((row[i] / k_m) * math.log((row[i] / k_m)))\n",
    "        first_denominator_part += math.fabs(i - (k_n + 1) / 2)\n",
    "    first_nom_part /= k_m\n",
    "    first_denominator_part *= g\n",
    "    coefficient = 1 - ((first_nom_part - second_nom_part) / (first_denominator_part + math.log(k_n)))\n",
    "    concordance_coefficients.append(coefficient)\n",
    "concordance_coefficients = np.array(concordance_coefficients)\n",
    "concordance_coefficients"
   ]
  },
  {
   "cell_type": "code",
   "execution_count": 18,
   "id": "c19f791d",
   "metadata": {},
   "outputs": [
    {
     "data": {
      "text/plain": [
       "0.724082104077029"
      ]
     },
     "execution_count": 18,
     "metadata": {},
     "output_type": "execute_result"
    }
   ],
   "source": [
    "# определение спектрального коэффициента согласованности матрицы\n",
    "minimal_concordance_coefficient = np.min(concordance_coefficients)\n",
    "minimal_concordance_coefficient"
   ]
  }
 ],
 "metadata": {
  "kernelspec": {
   "display_name": "Python 3 (ipykernel)",
   "language": "python",
   "name": "python3"
  },
  "language_info": {
   "codemirror_mode": {
    "name": "ipython",
    "version": 3
   },
   "file_extension": ".py",
   "mimetype": "text/x-python",
   "name": "python",
   "nbconvert_exporter": "python",
   "pygments_lexer": "ipython3",
   "version": "3.10.4"
  }
 },
 "nbformat": 4,
 "nbformat_minor": 5
}
