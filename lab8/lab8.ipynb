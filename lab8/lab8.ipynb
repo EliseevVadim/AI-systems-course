{
 "cells": [
  {
   "cell_type": "markdown",
   "id": "4e9f1652",
   "metadata": {},
   "source": [
    "# Задание 1\n",
    "\n",
    "### _Задача:_\n",
    "\n",
    "Согласно варианта из прошлой лабораторной рассчитать локальные веса альтернатив по каждому из \n",
    "критериев и глобальные веса альтернатив для \n",
    "заданной иерархии с р=3 уровнями следующими методами синтеза:\n",
    "\n",
    "- дистрибутивным;\n",
    "\n",
    "- идеальным;\n",
    "\n",
    "- мультипликативным;\n",
    "\n",
    "- ГУБОПА с мультипликативным синтезом."
   ]
  },
  {
   "cell_type": "code",
   "execution_count": 1,
   "id": "12f0ee1e",
   "metadata": {},
   "outputs": [],
   "source": [
    "# импорт необходимых зависимостей\n",
    "from core_methods import *"
   ]
  },
  {
   "cell_type": "code",
   "execution_count": 2,
   "id": "5f5c005d",
   "metadata": {},
   "outputs": [],
   "source": [
    "# построение мультипликативной МПС по критерию \"надежность вложения денег\"\n",
    "reliability_criteria_matrix = np.array([\n",
    "        [1, 1/3, 1, 3],\n",
    "        [3, 1, 3, 7],\n",
    "        [1, 1/3, 1, 4],\n",
    "        [1/3, 1/7, 1/4, 1]\n",
    "    ])"
   ]
  },
  {
   "cell_type": "code",
   "execution_count": 3,
   "id": "d0163384",
   "metadata": {},
   "outputs": [],
   "source": [
    "# построение мультипликативной МПС по критерию \"прибыльность вложения денег\"\n",
    "profit_criteria_matrix = np.array([\n",
    "        [1, 5, 3, 7],\n",
    "        [1/5, 1, 1, 3],\n",
    "        [1/3, 1, 1, 5],\n",
    "        [1/7, 1/3, 1/5, 1]\n",
    "    ])"
   ]
  },
  {
   "cell_type": "code",
   "execution_count": 4,
   "id": "a6b78ac9",
   "metadata": {},
   "outputs": [],
   "source": [
    "# задание весов критериев (в данном случае критерии равнозначны)\n",
    "criteria_weights = [0.5, 0.5]"
   ]
  },
  {
   "cell_type": "code",
   "execution_count": 5,
   "id": "e05bca8f",
   "metadata": {},
   "outputs": [],
   "source": [
    "# инициализация списка нормализованных локальных весов по заданным критериям\n",
    "normalized_local_weights = []"
   ]
  },
  {
   "cell_type": "code",
   "execution_count": 6,
   "id": "ed82e5b4",
   "metadata": {},
   "outputs": [
    {
     "name": "stdout",
     "output_type": "stream",
     "text": [
      "reliability criteria matrix hci - 0.004555021518550066\n"
     ]
    }
   ],
   "source": [
    "# получение гармонического индекса согласованности и весов альтернатив по критерию \"надежность вложения денег\"\n",
    "hci, normalized_weights = calculate_hci_and_weights(reliability_criteria_matrix)\n",
    "print(f\"reliability criteria matrix hci - {hci}\")\n",
    "normalized_local_weights.append(normalized_weights)"
   ]
  },
  {
   "cell_type": "code",
   "execution_count": 7,
   "id": "1f9ab89f",
   "metadata": {},
   "outputs": [
    {
     "name": "stdout",
     "output_type": "stream",
     "text": [
      "profit criteria matrix hci - 0.020648967551622304\n"
     ]
    }
   ],
   "source": [
    "# получение гармонического индекса согласованности и весов альтернатив по критерию \"прибыльность вложения денег\"\n",
    "hci, normalized_weights = calculate_hci_and_weights(profit_criteria_matrix)\n",
    "print(f\"profit criteria matrix hci - {hci}\")\n",
    "normalized_local_weights.append(normalized_weights)"
   ]
  },
  {
   "cell_type": "code",
   "execution_count": 8,
   "id": "911ec0bb",
   "metadata": {},
   "outputs": [
    {
     "data": {
      "text/plain": [
       "array([[0.1875    , 0.59659091],\n",
       "       [0.55263158, 0.13636364],\n",
       "       [0.19047619, 0.19230769],\n",
       "       [0.06666667, 0.0625    ]])"
      ]
     },
     "execution_count": 8,
     "metadata": {},
     "output_type": "execute_result"
    }
   ],
   "source": [
    "# приводим полученные локальные веса альтернатив по каждому из критериев к удобному для дальнейшей обработки виду\n",
    "normalized_local_weights = np.transpose(np.array(normalized_local_weights))\n",
    "normalized_local_weights"
   ]
  },
  {
   "cell_type": "markdown",
   "id": "b6a40be7",
   "metadata": {},
   "source": [
    "#### Поиск глобальных весов альтернатив методом дистрибутивного синтеза:"
   ]
  },
  {
   "cell_type": "code",
   "execution_count": 9,
   "id": "116886ff",
   "metadata": {},
   "outputs": [
    {
     "data": {
      "text/plain": [
       "[0.3959973704028963,\n",
       " 0.34609751276643125,\n",
       " 0.1928435149253752,\n",
       " 0.06506160190529725]"
      ]
     },
     "execution_count": 9,
     "metadata": {},
     "output_type": "execute_result"
    }
   ],
   "source": [
    "global_weights_distributive = calculate_weights_by_distributive_synthesis(normalized_local_weights, criteria_weights)\n",
    "global_weights_distributive"
   ]
  },
  {
   "cell_type": "code",
   "execution_count": 10,
   "id": "223de07a",
   "metadata": {},
   "outputs": [
    {
     "data": {
      "text/plain": [
       "1.0"
      ]
     },
     "execution_count": 10,
     "metadata": {},
     "output_type": "execute_result"
    }
   ],
   "source": [
    "# проверка равенства единице суммы весов\n",
    "np.sum(global_weights_distributive)"
   ]
  },
  {
   "cell_type": "markdown",
   "id": "1c459f7a",
   "metadata": {},
   "source": [
    "#### Поиск глобальных весов альтернатив методом идеального синтеза:"
   ]
  },
  {
   "cell_type": "code",
   "execution_count": 11,
   "id": "0b1852d1",
   "metadata": {},
   "outputs": [
    {
     "data": {
      "text/plain": [
       "array([0.4029577 , 0.33913519, 0.19290532, 0.06500179])"
      ]
     },
     "execution_count": 11,
     "metadata": {},
     "output_type": "execute_result"
    }
   ],
   "source": [
    "global_weights_ideal = calculate_weights_by_ideal_synthesis(normalized_local_weights, criteria_weights)\n",
    "global_weights_ideal"
   ]
  },
  {
   "cell_type": "code",
   "execution_count": 12,
   "id": "4fc66cb3",
   "metadata": {},
   "outputs": [
    {
     "data": {
      "text/plain": [
       "1.0"
      ]
     },
     "execution_count": 12,
     "metadata": {},
     "output_type": "execute_result"
    }
   ],
   "source": [
    "# проверка равенства единице суммы весов\n",
    "np.sum(global_weights_ideal)"
   ]
  },
  {
   "cell_type": "markdown",
   "id": "3dd63b7b",
   "metadata": {},
   "source": [
    "#### Поиск глобальных весов альтернатив методом мультипликативного синтеза:"
   ]
  },
  {
   "cell_type": "code",
   "execution_count": 13,
   "id": "30c82f85",
   "metadata": {},
   "outputs": [
    {
     "data": {
      "text/plain": [
       "array([0.38669404, 0.31739177, 0.22128257, 0.07463163])"
      ]
     },
     "execution_count": 13,
     "metadata": {},
     "output_type": "execute_result"
    }
   ],
   "source": [
    "global_weights_multiplicative = calculate_weights_by_multiplicative_synthesis(normalized_local_weights, criteria_weights)\n",
    "global_weights_multiplicative"
   ]
  },
  {
   "cell_type": "code",
   "execution_count": 14,
   "id": "5a62bc41",
   "metadata": {},
   "outputs": [
    {
     "data": {
      "text/plain": [
       "1.0"
      ]
     },
     "execution_count": 14,
     "metadata": {},
     "output_type": "execute_result"
    }
   ],
   "source": [
    "# проверка равенства единице суммы весов\n",
    "np.sum(global_weights_multiplicative)"
   ]
  },
  {
   "cell_type": "markdown",
   "id": "a5996ff4",
   "metadata": {},
   "source": [
    "#### Поиск глобальных весов альтернатив методом ГУБОПА с мультипликативным синтезом:"
   ]
  },
  {
   "cell_type": "code",
   "execution_count": 15,
   "id": "4d6b65b2",
   "metadata": {},
   "outputs": [
    {
     "data": {
      "text/plain": [
       "array([[[1.        , 0.33333333, 1.        , 3.        ],\n",
       "        [3.        , 1.        , 3.        , 7.        ],\n",
       "        [1.        , 0.33333333, 1.        , 4.        ],\n",
       "        [0.33333333, 0.14285714, 0.25      , 1.        ]],\n",
       "\n",
       "       [[1.        , 5.        , 3.        , 7.        ],\n",
       "        [0.2       , 1.        , 1.        , 3.        ],\n",
       "        [0.33333333, 1.        , 1.        , 5.        ],\n",
       "        [0.14285714, 0.33333333, 0.2       , 1.        ]]])"
      ]
     },
     "execution_count": 15,
     "metadata": {},
     "output_type": "execute_result"
    }
   ],
   "source": [
    "# построение составной матрицы из МПС по заданным критериям\n",
    "full_criteria_matrix = np.array([reliability_criteria_matrix, profit_criteria_matrix])\n",
    "full_criteria_matrix"
   ]
  },
  {
   "cell_type": "code",
   "execution_count": 16,
   "id": "4afbd86c",
   "metadata": {},
   "outputs": [
    {
     "data": {
      "text/plain": [
       "[0.4618606647387355,\n",
       " 0.4202487519262801,\n",
       " 0.10861079493183529,\n",
       " 0.009279788403149037]"
      ]
     },
     "execution_count": 16,
     "metadata": {},
     "output_type": "execute_result"
    }
   ],
   "source": [
    "# получение глобальных весов альтернатив\n",
    "global_comparisons_weights = calculate_weights_by_gabrpa_synthesis(full_criteria_matrix, criteria_weights)\n",
    "global_comparisons_weights"
   ]
  },
  {
   "cell_type": "code",
   "execution_count": 17,
   "id": "d64386e1",
   "metadata": {},
   "outputs": [
    {
     "data": {
      "text/plain": [
       "1.0"
      ]
     },
     "execution_count": 17,
     "metadata": {},
     "output_type": "execute_result"
    }
   ],
   "source": [
    "# проверка равенства единице суммы весов\n",
    "np.sum(global_comparisons_weights)"
   ]
  },
  {
   "cell_type": "markdown",
   "id": "d6f58436",
   "metadata": {},
   "source": [
    "# Задание 2\n",
    "\n",
    "### _Задача:_\n",
    "\n",
    "Добавить к рассмотрению еще одну альтернативу, построить новые МПС с учетом этой альтернативы по критериям, оценки относительно новой альтернативы должны быть построены в соответствии с фундаментальной шкалой Саати. Новые МПС по критериям должны быть согласованными. Добавить альтернативу со следующими свойствами:\n",
    "\n",
    "- неоптимальную по обоим критериям;\n",
    "\n",
    "- оптимальную по одному из критериев;\n",
    "\n",
    "- эквивалентную альтернативе с наименьшим глобальным весом;\n",
    "\n",
    "- эквивалентную оптимальной альтернативе.\n",
    "\n",
    "Выполнить для расширенных МПС расчеты весов по методам, представленным выше, определить, имеет ли место реверс рангов вида \"смена знака предпочтения между старыми альтернативами\", \"смена оптимальной альтернативы\" или \"смена рангов альтернатив при их попарном рассмотрении по сравнению с рассмотрением всех альтернатив одновременно\"."
   ]
  },
  {
   "cell_type": "markdown",
   "id": "c09f28fe",
   "metadata": {},
   "source": [
    "### Добавление неоптимальной по обоим критериям альтернативы"
   ]
  },
  {
   "cell_type": "code",
   "execution_count": 18,
   "id": "f0304051",
   "metadata": {},
   "outputs": [],
   "source": [
    "# инициализация новых МПС\n",
    "reliability_criteria_matrix = np.array([\n",
    "        [1, 1/3, 1, 3, 4],\n",
    "        [3, 1, 3, 7, 5],\n",
    "        [1, 1/3, 1, 4, 5],\n",
    "        [1/3, 1/7, 1/4, 1, 2],\n",
    "        [1/4, 1/5, 1/5, 1/2, 1]\n",
    "    ])\n",
    "profit_criteria_matrix = np.array([\n",
    "        [1, 5, 3, 7, 9],\n",
    "        [1/5, 1, 1, 3, 5],\n",
    "        [1/3, 1, 1, 5, 6],\n",
    "        [1/7, 1/3, 1/5, 1, 2],\n",
    "        [1/9, 1/5, 1/6, 1/2, 1]\n",
    "    ])"
   ]
  },
  {
   "cell_type": "code",
   "execution_count": 19,
   "id": "9f3c08fe",
   "metadata": {},
   "outputs": [
    {
     "name": "stdout",
     "output_type": "stream",
     "text": [
      "reliability matrix hci - 0.02507109152344853\n",
      "profit matrix hci - 0.02646003632403886\n"
     ]
    },
    {
     "data": {
      "text/plain": [
       "[array([0.17910448, 0.49763033, 0.18348624, 0.06451613, 0.05882353]),\n",
       " array([0.55950266, 0.13274336, 0.1863354 , 0.06060606, 0.04347826])]"
      ]
     },
     "execution_count": 19,
     "metadata": {},
     "output_type": "execute_result"
    }
   ],
   "source": [
    "# вычисление локальных весов альтернатив по критериям\n",
    "normalized_local_weights = []\n",
    "hci, normalized_weights = calculate_hci_and_weights(reliability_criteria_matrix)\n",
    "print(f\"reliability matrix hci - {hci}\")\n",
    "normalized_local_weights.append(normalized_weights)\n",
    "hci, normalized_weights = calculate_hci_and_weights(profit_criteria_matrix)\n",
    "print(f\"profit matrix hci - {hci}\")\n",
    "normalized_local_weights.append(normalized_weights)\n",
    "normalized_local_weights"
   ]
  },
  {
   "cell_type": "code",
   "execution_count": 20,
   "id": "be540a8d",
   "metadata": {},
   "outputs": [
    {
     "data": {
      "text/plain": [
       "array([[0.17910448, 0.55950266],\n",
       "       [0.49763033, 0.13274336],\n",
       "       [0.18348624, 0.1863354 ],\n",
       "       [0.06451613, 0.06060606],\n",
       "       [0.05882353, 0.04347826]])"
      ]
     },
     "execution_count": 20,
     "metadata": {},
     "output_type": "execute_result"
    }
   ],
   "source": [
    "# приведение полученных локальных весов альтернатив по каждому из критериев к удобному для дальнейшей обработки виду\n",
    "normalized_local_weights = np.transpose(np.array(normalized_local_weights))\n",
    "normalized_local_weights"
   ]
  },
  {
   "cell_type": "code",
   "execution_count": 21,
   "id": "ee09f7ea",
   "metadata": {},
   "outputs": [
    {
     "data": {
      "text/plain": [
       "[0.3757351728122378,\n",
       " 0.32051635722422095,\n",
       " 0.1880877017396074,\n",
       " 0.06363480426609254,\n",
       " 0.05202596395784141]"
      ]
     },
     "execution_count": 21,
     "metadata": {},
     "output_type": "execute_result"
    }
   ],
   "source": [
    "# вычисление глобальных весов альтернатив методом дистрибутивного синтеза:\n",
    "global_weights_distributive = calculate_weights_by_distributive_synthesis(normalized_local_weights, criteria_weights)\n",
    "global_weights_distributive"
   ]
  },
  {
   "attachments": {
    "image-2.png": {
     "image/png": "[encoded data removed]"
    },
    "image.png": {
     "image/png": "[encoded data removed]"
    }
   },
   "cell_type": "markdown",
   "id": "6812ff4a",
   "metadata": {},
   "source": [
    "###### В данном случае реверс рангов не наблюдается, наихудшая новая альтернатива занимает 5-е место, остальные сохраняют порядок\n",
    "\n",
    "_До добавления альтернативы:_\n",
    "![image.png](attachment:image.png)\n",
    "\n",
    "_После:_\n",
    "![image-2.png](attachment:image-2.png)"
   ]
  },
  {
   "cell_type": "code",
   "execution_count": 22,
   "id": "b72235b7",
   "metadata": {},
   "outputs": [
    {
     "data": {
      "text/plain": [
       "array([0.38698061, 0.30974746, 0.18817683, 0.063521  , 0.0515741 ])"
      ]
     },
     "execution_count": 22,
     "metadata": {},
     "output_type": "execute_result"
    }
   ],
   "source": [
    "# вычисление глобальных весов альтернатив методом идеального синтеза:\n",
    "global_weights_ideal = calculate_weights_by_ideal_synthesis(normalized_local_weights, criteria_weights)\n",
    "global_weights_ideal"
   ]
  },
  {
   "attachments": {
    "image-3.png": {
     "image/png": "[encoded data removed]"
    },
    "image.png": {
     "image/png": "[encoded data removed]"
    }
   },
   "cell_type": "markdown",
   "id": "14cbbe67",
   "metadata": {},
   "source": [
    "###### В данном случае реверс рангов не наблюдается, наихудшая новая альтернатива занимает 5-е место, остальные сохраняют порядок\n",
    "\n",
    "_До добавления альтернативы:_\n",
    "![image.png](attachment:image.png)\n",
    "\n",
    "_После:_\n",
    "![image-3.png](attachment:image-3.png)"
   ]
  },
  {
   "cell_type": "code",
   "execution_count": 23,
   "id": "9aa433c6",
   "metadata": {},
   "outputs": [
    {
     "data": {
      "text/plain": [
       "array([0.36319993, 0.29488405, 0.21214895, 0.07174368, 0.05802339])"
      ]
     },
     "execution_count": 23,
     "metadata": {},
     "output_type": "execute_result"
    }
   ],
   "source": [
    "# вычисление глобальных весов альтернатив методом мультипликативного синтеза:\n",
    "global_weights_multiplicative = calculate_weights_by_multiplicative_synthesis(normalized_local_weights, criteria_weights)\n",
    "global_weights_multiplicative"
   ]
  },
  {
   "attachments": {
    "image-2.png": {
     "image/png": "[encoded data removed]"
    },
    "image.png": {
     "image/png": "[encoded data removed]"
    }
   },
   "cell_type": "markdown",
   "id": "50457a3b",
   "metadata": {},
   "source": [
    "###### В данном случае реверс рангов не наблюдается, наихудшая новая альтернатива занимает 5-е место, остальные сохраняют порядок\n",
    "\n",
    "_До добавления альтернативы:_\n",
    "![image.png](attachment:image.png)\n",
    "\n",
    "_После:_\n",
    "![image-2.png](attachment:image-2.png)"
   ]
  },
  {
   "cell_type": "code",
   "execution_count": 24,
   "id": "c7a88164",
   "metadata": {},
   "outputs": [
    {
     "data": {
      "text/plain": [
       "[0.4734825847240596,\n",
       " 0.4176190356295699,\n",
       " 0.10138288122371555,\n",
       " 0.005347249241609156,\n",
       " 0.002168249181045785]"
      ]
     },
     "execution_count": 24,
     "metadata": {},
     "output_type": "execute_result"
    }
   ],
   "source": [
    "# вычисление глобальных весов альтернатив методом ГУБОПА с мультипликативным синтезом\n",
    "full_criteria_matrix = np.array([reliability_criteria_matrix, profit_criteria_matrix])\n",
    "global_comparisons_weights = calculate_weights_by_gabrpa_synthesis(full_criteria_matrix, criteria_weights)\n",
    "global_comparisons_weights"
   ]
  },
  {
   "attachments": {
    "image-2.png": {
     "image/png": "[encoded data removed]"
    },
    "image.png": {
     "image/png": "[encoded data removed]"
    }
   },
   "cell_type": "markdown",
   "id": "b9d210cf",
   "metadata": {},
   "source": [
    "###### В данном случае реверс рангов не наблюдается, наихудшая новая альтернатива занимает 5-е место, остальные сохраняют порядок\n",
    "\n",
    "_До добавления альтернативы:_\n",
    "![image.png](attachment:image.png)\n",
    "\n",
    "_После:_\n",
    "![image-2.png](attachment:image-2.png)"
   ]
  },
  {
   "cell_type": "markdown",
   "id": "5814d977",
   "metadata": {},
   "source": [
    "### Добавление альтернативы, оптимальной по одному критерию"
   ]
  },
  {
   "cell_type": "code",
   "execution_count": 25,
   "id": "091ea441",
   "metadata": {},
   "outputs": [],
   "source": [
    "# инициализация новых МПС\n",
    "reliability_criteria_matrix = np.array([\n",
    "        [1, 1/3, 1, 3, 1/5],\n",
    "        [3, 1, 3, 7, 1/4],\n",
    "        [1, 1/3, 1, 4, 1/6],\n",
    "        [1/3, 1/7, 1/4, 1, 1/9],\n",
    "        [5, 4, 6, 9, 1]\n",
    "    ])\n",
    "profit_criteria_matrix = np.array([\n",
    "        [1, 5, 3, 7, 2],\n",
    "        [1/5, 1, 1, 3, 3],\n",
    "        [1/3, 1, 1, 5, 1/2],\n",
    "        [1/7, 1/3, 1/5, 1, 1/3],\n",
    "        [1/2, 1/3, 2, 3, 1]\n",
    "    ])"
   ]
  },
  {
   "cell_type": "code",
   "execution_count": 26,
   "id": "44459d28",
   "metadata": {},
   "outputs": [
    {
     "name": "stdout",
     "output_type": "stream",
     "text": [
      "reliability matrix hci - 0.03336756293987468\n",
      "profit matrix hci - 0.11670105925254601\n"
     ]
    },
    {
     "data": {
      "text/plain": [
       "[array([0.09677419, 0.17213115, 0.08888889, 0.04166667, 0.57877814]),\n",
       " array([0.4595186 , 0.13043478, 0.13888889, 0.05263158, 0.14634146])]"
      ]
     },
     "execution_count": 26,
     "metadata": {},
     "output_type": "execute_result"
    }
   ],
   "source": [
    "# вычисление локальных весов альтернатив по критериям\n",
    "normalized_local_weights = []\n",
    "hci, normalized_weights = calculate_hci_and_weights(reliability_criteria_matrix)\n",
    "print(f\"reliability matrix hci - {hci}\")\n",
    "normalized_local_weights.append(normalized_weights)\n",
    "hci, normalized_weights = calculate_hci_and_weights(profit_criteria_matrix)\n",
    "print(f\"profit matrix hci - {hci}\")\n",
    "normalized_local_weights.append(normalized_weights)\n",
    "normalized_local_weights"
   ]
  },
  {
   "cell_type": "code",
   "execution_count": 27,
   "id": "18d58fab",
   "metadata": {},
   "outputs": [
    {
     "data": {
      "text/plain": [
       "array([[0.09677419, 0.4595186 ],\n",
       "       [0.17213115, 0.13043478],\n",
       "       [0.08888889, 0.13888889],\n",
       "       [0.04166667, 0.05263158],\n",
       "       [0.57877814, 0.14634146]])"
      ]
     },
     "execution_count": 27,
     "metadata": {},
     "output_type": "execute_result"
    }
   ],
   "source": [
    "# приведение полученных локальных весов альтернатив по каждому из критериев к удобному для дальнейшей обработки виду\n",
    "normalized_local_weights = np.transpose(np.array(normalized_local_weights))\n",
    "normalized_local_weights"
   ]
  },
  {
   "cell_type": "code",
   "execution_count": 28,
   "id": "413b8e31",
   "metadata": {},
   "outputs": [
    {
     "data": {
      "text/plain": [
       "[0.29709820532516046,\n",
       " 0.15827145647260527,\n",
       " 0.12028038423768822,\n",
       " 0.0496599481856131,\n",
       " 0.374690005778933]"
      ]
     },
     "execution_count": 28,
     "metadata": {},
     "output_type": "execute_result"
    }
   ],
   "source": [
    "# вычисление глобальных весов альтернатив методом дистрибутивного синтеза:\n",
    "global_weights_distributive = calculate_weights_by_distributive_synthesis(normalized_local_weights, criteria_weights)\n",
    "global_weights_distributive"
   ]
  },
  {
   "attachments": {
    "image-5.png": {
     "image/png": "[encoded data removed]"
    },
    "image-6.png": {
     "image/png": "[encoded data removed]"
    }
   },
   "cell_type": "markdown",
   "id": "70c5c30b",
   "metadata": {},
   "source": [
    "###### В данном случае наблюдается реверс рангов - новая альтернатива стала оптимальной, остальные сохранили свой порядок относительно своих старых приоритетов и главенства новой альтернативы, имеет место реверс рангов типа 1 - \"изменение оптимальной альтернативы\"\n",
    "\n",
    "_До добавления альтернативы:_\n",
    "![image-5.png](attachment:image-5.png)\n",
    "\n",
    "_После:_\n",
    "![image-6.png](attachment:image-6.png)"
   ]
  },
  {
   "cell_type": "code",
   "execution_count": 29,
   "id": "c79399df",
   "metadata": {},
   "outputs": [
    {
     "data": {
      "text/plain": [
       "array([0.38305406, 0.15059904, 0.13303864, 0.05272497, 0.28058329])"
      ]
     },
     "execution_count": 29,
     "metadata": {},
     "output_type": "execute_result"
    }
   ],
   "source": [
    "# вычисление глобальных весов альтернатив методом идеального синтеза:\n",
    "global_weights_ideal = calculate_weights_by_ideal_synthesis(normalized_local_weights, criteria_weights)\n",
    "global_weights_ideal"
   ]
  },
  {
   "attachments": {
    "image-2.png": {
     "image/png": "[encoded data removed]"
    },
    "image.png": {
     "image/png": "[encoded data removed]"
    }
   },
   "cell_type": "markdown",
   "id": "31560653",
   "metadata": {},
   "source": [
    "###### В данном случае наблюдается реверс рангов - новая альтернатива стала 2-й по оптимальности, старая оптимальная сохранила свое превосходство, имеет место реверс рангов типа 2 - \"изменение порядка ранжирования старых альтернатив\"\n",
    "\n",
    "_До добавления альтернативы:_\n",
    "![image.png](attachment:image.png)\n",
    "\n",
    "_После:_\n",
    "![image-2.png](attachment:image-2.png)"
   ]
  },
  {
   "cell_type": "code",
   "execution_count": 30,
   "id": "5a04d382",
   "metadata": {},
   "outputs": [
    {
     "data": {
      "text/plain": [
       "array([0.26044314, 0.18505807, 0.13722685, 0.05783612, 0.35943582])"
      ]
     },
     "execution_count": 30,
     "metadata": {},
     "output_type": "execute_result"
    }
   ],
   "source": [
    "# вычисление глобальных весов альтернатив методом мультипликативного синтеза:\n",
    "global_weights_multiplicative = calculate_weights_by_multiplicative_synthesis(normalized_local_weights, criteria_weights)\n",
    "global_weights_multiplicative"
   ]
  },
  {
   "attachments": {
    "image-2.png": {
     "image/png": "[encoded data removed]"
    },
    "image.png": {
     "image/png": "[encoded data removed]"
    }
   },
   "cell_type": "markdown",
   "id": "9d4c16eb",
   "metadata": {},
   "source": [
    "###### В данном случае наблюдается реверс рангов - новая альтернатива стала оптимальной, остальные сохранили свой порядок относительно своих старых приоритетов и главенства новой альтернативы, имеет место реверс рангов типа 1 - \"изменение оптимальной альтернативы\"\n",
    "\n",
    "_До добавления альтернативы:_\n",
    "![image.png](attachment:image.png)\n",
    "\n",
    "_После:_\n",
    "![image-2.png](attachment:image-2.png)"
   ]
  },
  {
   "cell_type": "code",
   "execution_count": 31,
   "id": "f9db2e58",
   "metadata": {},
   "outputs": [
    {
     "data": {
      "text/plain": [
       "[0.4129276703017089,\n",
       " 0.09019498371829379,\n",
       " 0.031876886742869454,\n",
       " 0.002063733347890201,\n",
       " 0.46293672588923757]"
      ]
     },
     "execution_count": 31,
     "metadata": {},
     "output_type": "execute_result"
    }
   ],
   "source": [
    "# вычисление глобальных весов альтернатив методом ГУБОПА с мультипликативным синтезом\n",
    "full_criteria_matrix = np.array([reliability_criteria_matrix, profit_criteria_matrix])\n",
    "global_comparisons_weights = calculate_weights_by_gabrpa_synthesis(full_criteria_matrix, criteria_weights)\n",
    "global_comparisons_weights"
   ]
  },
  {
   "attachments": {
    "image-2.png": {
     "image/png": "[encoded data removed]"
    },
    "image.png": {
     "image/png": "[encoded data removed]"
    }
   },
   "cell_type": "markdown",
   "id": "f410c008",
   "metadata": {},
   "source": [
    "###### В данном случае наблюдается реверс рангов - новая альтернатива стала оптимальной, остальные сохранили свой порядок относительно своих старых приоритетов и главенства новой альтернативы, имеет место реверс рангов типа 1 - \"изменение оптимальной альтернативы\". Также имеет место реверс рангов типа 3 - \"смена рангов альтернатив при их попарном рассмотрении по сравнению с рассмотрением всех альтернатив одновременно\", поскольку был использован метод поиска весов, основанный на парных сравнениях\n",
    "\n",
    "_До добавления альтернативы:_\n",
    "![image.png](attachment:image.png)\n",
    "\n",
    "_После:_\n",
    "![image-2.png](attachment:image-2.png)"
   ]
  },
  {
   "cell_type": "markdown",
   "id": "2fa3865c",
   "metadata": {},
   "source": [
    "### Добавление альтернативы, эквивалентной альтернативе с наименьшим глобальным весом"
   ]
  },
  {
   "cell_type": "code",
   "execution_count": 32,
   "id": "5ec0a09c",
   "metadata": {},
   "outputs": [],
   "source": [
    "# инициализация новых МПС\n",
    "reliability_criteria_matrix = np.array([\n",
    "        [1, 1/3, 1, 3, 3],\n",
    "        [3, 1, 3, 7, 7],\n",
    "        [1, 1/3, 1, 4, 4],\n",
    "        [1/3, 1/7, 1/4, 1, 1],\n",
    "        [1/3, 1/7, 1/4, 1, 1]\n",
    "    ])\n",
    "profit_criteria_matrix = np.array([\n",
    "        [1, 5, 3, 7, 7],\n",
    "        [1/5, 1, 1, 3, 3],\n",
    "        [1/3, 1, 1, 5, 5],\n",
    "        [1/7, 1/3, 1/5, 1, 1],\n",
    "        [1/7, 1/3, 1/5, 1, 1]\n",
    "    ])"
   ]
  },
  {
   "cell_type": "code",
   "execution_count": 33,
   "id": "1f52e8f6",
   "metadata": {},
   "outputs": [
    {
     "name": "stdout",
     "output_type": "stream",
     "text": [
      "reliability matrix hci - 0.006804893627475028\n",
      "profit matrix hci - 0.025932852669289463\n"
     ]
    },
    {
     "data": {
      "text/plain": [
       "[array([0.17647059, 0.51219512, 0.18181818, 0.0625    , 0.0625    ]),\n",
       " array([0.54973822, 0.13043478, 0.18518519, 0.05882353, 0.05882353])]"
      ]
     },
     "execution_count": 33,
     "metadata": {},
     "output_type": "execute_result"
    }
   ],
   "source": [
    "# вычисление локальных весов альтернатив по критериям\n",
    "normalized_local_weights = []\n",
    "hci, normalized_weights = calculate_hci_and_weights(reliability_criteria_matrix)\n",
    "print(f\"reliability matrix hci - {hci}\")\n",
    "normalized_local_weights.append(normalized_weights)\n",
    "hci, normalized_weights = calculate_hci_and_weights(profit_criteria_matrix)\n",
    "print(f\"profit matrix hci - {hci}\")\n",
    "normalized_local_weights.append(normalized_weights)\n",
    "normalized_local_weights"
   ]
  },
  {
   "cell_type": "code",
   "execution_count": 34,
   "id": "3e05740e",
   "metadata": {},
   "outputs": [
    {
     "data": {
      "text/plain": [
       "array([[0.17647059, 0.54973822],\n",
       "       [0.51219512, 0.13043478],\n",
       "       [0.18181818, 0.18518519],\n",
       "       [0.0625    , 0.05882353],\n",
       "       [0.0625    , 0.05882353]])"
      ]
     },
     "execution_count": 34,
     "metadata": {},
     "output_type": "execute_result"
    }
   ],
   "source": [
    "# приведение полученных локальных весов альтернатив по каждому из критериев к удобному для дальнейшей обработки виду\n",
    "normalized_local_weights = np.transpose(np.array(normalized_local_weights))\n",
    "normalized_local_weights"
   ]
  },
  {
   "cell_type": "code",
   "execution_count": 35,
   "id": "80eef55d",
   "metadata": {},
   "outputs": [
    {
     "data": {
      "text/plain": [
       "[0.36825678534680484,\n",
       " 0.3236042787205349,\n",
       " 0.18551489467193555,\n",
       " 0.06131202063036238,\n",
       " 0.06131202063036238]"
      ]
     },
     "execution_count": 35,
     "metadata": {},
     "output_type": "execute_result"
    }
   ],
   "source": [
    "# вычисление глобальных весов альтернатив методом дистрибутивного синтеза:\n",
    "global_weights_distributive = calculate_weights_by_distributive_synthesis(normalized_local_weights, criteria_weights)\n",
    "global_weights_distributive"
   ]
  },
  {
   "attachments": {
    "image-2.png": {
     "image/png": "[encoded data removed]"
    },
    "image.png": {
     "image/png": "[encoded data removed]"
    }
   },
   "cell_type": "markdown",
   "id": "baa32aec",
   "metadata": {},
   "source": [
    "###### В данном случае реверс рангов не наблюдается, новая альтернатива делит 4-5-е места с наихудшей, поскольку эквивалентна ей, остальные сохраняют порядок\n",
    "\n",
    "_До добавления альтернативы:_\n",
    "![image.png](attachment:image.png)\n",
    "\n",
    "_После:_\n",
    "![image-2.png](attachment:image-2.png)"
   ]
  },
  {
   "cell_type": "code",
   "execution_count": 36,
   "id": "ef4b35a9",
   "metadata": {},
   "outputs": [
    {
     "data": {
      "text/plain": [
       "array([0.37380546, 0.31805767, 0.18559833, 0.06126927, 0.06126927])"
      ]
     },
     "execution_count": 36,
     "metadata": {},
     "output_type": "execute_result"
    }
   ],
   "source": [
    "# вычисление глобальных весов альтернатив методом идеального синтеза:\n",
    "global_weights_ideal = calculate_weights_by_ideal_synthesis(normalized_local_weights, criteria_weights)\n",
    "global_weights_ideal"
   ]
  },
  {
   "attachments": {
    "image-2.png": {
     "image/png": "[encoded data removed]"
    },
    "image.png": {
     "image/png": "[encoded data removed]"
    }
   },
   "cell_type": "markdown",
   "id": "2a158bf0",
   "metadata": {},
   "source": [
    "###### В данном случае реверс рангов не наблюдается, новая альтернатива делит 4-5-е места с наихудшей, поскольку эквивалентна ей, остальные сохраняют порядок\n",
    "\n",
    "_До добавления альтернативы:_\n",
    "![image.png](attachment:image.png)\n",
    "\n",
    "_После:_\n",
    "![image-2.png](attachment:image-2.png)"
   ]
  },
  {
   "cell_type": "code",
   "execution_count": 37,
   "id": "f24758f6",
   "metadata": {},
   "outputs": [
    {
     "data": {
      "text/plain": [
       "array([0.35608494, 0.29549756, 0.20977863, 0.06931944, 0.06931944])"
      ]
     },
     "execution_count": 37,
     "metadata": {},
     "output_type": "execute_result"
    }
   ],
   "source": [
    "# вычисление глобальных весов альтернатив методом мультипликативного синтеза:\n",
    "global_weights_multiplicative = calculate_weights_by_multiplicative_synthesis(normalized_local_weights, criteria_weights)\n",
    "global_weights_multiplicative"
   ]
  },
  {
   "attachments": {
    "image-2.png": {
     "image/png": "[encoded data removed]"
    },
    "image.png": {
     "image/png": "[encoded data removed]"
    }
   },
   "cell_type": "markdown",
   "id": "c958c99d",
   "metadata": {},
   "source": [
    "###### В данном случае реверс рангов не наблюдается, новая альтернатива делит 4-5-е места с наихудшей, поскольку эквивалентна ей, остальные сохраняют порядок\n",
    "\n",
    "_До добавления альтернативы:_\n",
    "![image.png](attachment:image.png)\n",
    "\n",
    "_После:_\n",
    "![image-2.png](attachment:image-2.png)"
   ]
  },
  {
   "cell_type": "code",
   "execution_count": 38,
   "id": "9de94460",
   "metadata": {},
   "outputs": [
    {
     "data": {
      "text/plain": [
       "[0.46414619475416463,\n",
       " 0.4369550107836046,\n",
       " 0.0914845919296153,\n",
       " 0.0037071012663077076,\n",
       " 0.0037071012663077076]"
      ]
     },
     "execution_count": 38,
     "metadata": {},
     "output_type": "execute_result"
    }
   ],
   "source": [
    "# вычисление глобальных весов альтернатив методом ГУБОПА с мультипликативным синтезом\n",
    "full_criteria_matrix = np.array([reliability_criteria_matrix, profit_criteria_matrix])\n",
    "global_comparisons_weights = calculate_weights_by_gabrpa_synthesis(full_criteria_matrix, criteria_weights)\n",
    "global_comparisons_weights"
   ]
  },
  {
   "attachments": {
    "image-2.png": {
     "image/png": "[encoded data removed]"
    },
    "image.png": {
     "image/png": "[encoded data removed]"
    }
   },
   "cell_type": "markdown",
   "id": "aeeddbb2",
   "metadata": {},
   "source": [
    "###### В данном случае реверс рангов не наблюдается, новая альтернатива делит 4-5-е места с наихудшей, поскольку эквивалентна ей, остальные сохраняют порядок\n",
    "\n",
    "_До добавления альтернативы:_\n",
    "![image.png](attachment:image.png)\n",
    "\n",
    "_После:_\n",
    "![image-2.png](attachment:image-2.png)"
   ]
  },
  {
   "cell_type": "markdown",
   "id": "caf9c2be",
   "metadata": {},
   "source": [
    "### Добавление альтернативы, эквивалентной альтернативе с наибольшим глобальным весом"
   ]
  },
  {
   "cell_type": "code",
   "execution_count": 39,
   "id": "9d89c281",
   "metadata": {},
   "outputs": [],
   "source": [
    "# инициализация новых МПС\n",
    "reliability_criteria_matrix = np.array([\n",
    "        [1, 1/3, 1, 3, 1],\n",
    "        [3, 1, 3, 7, 3],\n",
    "        [1, 1/3, 1, 4, 1],\n",
    "        [1/3, 1/7, 1/4, 1, 1/3],\n",
    "        [1, 1/3, 1, 3, 1]\n",
    "    ])\n",
    "profit_criteria_matrix = np.array([\n",
    "        [1, 5, 3, 7, 1],\n",
    "        [1/5, 1, 1, 3, 1/5],\n",
    "        [1/3, 1, 1, 5, 1/3],\n",
    "        [1/7, 1/3, 1/5, 1, 1/7],\n",
    "        [1, 5, 3, 7, 1]\n",
    "    ])"
   ]
  },
  {
   "cell_type": "code",
   "execution_count": 40,
   "id": "7a3505e7",
   "metadata": {},
   "outputs": [
    {
     "name": "stdout",
     "output_type": "stream",
     "text": [
      "reliability matrix hci - 0.002988397984296043\n",
      "profit matrix hci - 0.009294959324161845\n"
     ]
    },
    {
     "data": {
      "text/plain": [
       "[array([0.15789474, 0.46666667, 0.16      , 0.05555556, 0.15789474]),\n",
       " array([0.37366548, 0.08108108, 0.12195122, 0.04347826, 0.37366548])]"
      ]
     },
     "execution_count": 40,
     "metadata": {},
     "output_type": "execute_result"
    }
   ],
   "source": [
    "# вычисление локальных весов альтернатив по критериям\n",
    "normalized_local_weights = []\n",
    "hci, normalized_weights = calculate_hci_and_weights(reliability_criteria_matrix)\n",
    "print(f\"reliability matrix hci - {hci}\")\n",
    "normalized_local_weights.append(normalized_weights)\n",
    "hci, normalized_weights = calculate_hci_and_weights(profit_criteria_matrix)\n",
    "print(f\"profit matrix hci - {hci}\")\n",
    "normalized_local_weights.append(normalized_weights)\n",
    "normalized_local_weights"
   ]
  },
  {
   "cell_type": "code",
   "execution_count": 41,
   "id": "a80a07ce",
   "metadata": {},
   "outputs": [
    {
     "data": {
      "text/plain": [
       "array([[0.15789474, 0.37366548],\n",
       "       [0.46666667, 0.08108108],\n",
       "       [0.16      , 0.12195122],\n",
       "       [0.05555556, 0.04347826],\n",
       "       [0.15789474, 0.37366548]])"
      ]
     },
     "execution_count": 41,
     "metadata": {},
     "output_type": "execute_result"
    }
   ],
   "source": [
    "# приведение полученных локальных весов альтернатив по каждому из критериев к удобному для дальнейшей обработки виду\n",
    "normalized_local_weights = np.transpose(np.array(normalized_local_weights))\n",
    "normalized_local_weights"
   ]
  },
  {
   "cell_type": "code",
   "execution_count": 42,
   "id": "a5241d91",
   "metadata": {},
   "outputs": [
    {
     "data": {
      "text/plain": [
       "[0.26709512788615003,\n",
       " 0.2745899508994114,\n",
       " 0.14151283485689262,\n",
       " 0.049706958471395904,\n",
       " 0.26709512788615003]"
      ]
     },
     "execution_count": 42,
     "metadata": {},
     "output_type": "execute_result"
    }
   ],
   "source": [
    "# вычисление глобальных весов альтернатив методом дистрибутивного синтеза:\n",
    "global_weights_distributive = calculate_weights_by_distributive_synthesis(normalized_local_weights, criteria_weights)\n",
    "global_weights_distributive"
   ]
  },
  {
   "attachments": {
    "image-2.png": {
     "image/png": "[encoded data removed]"
    },
    "image.png": {
     "image/png": "[encoded data removed]"
    }
   },
   "cell_type": "markdown",
   "id": "ddfbae78",
   "metadata": {},
   "source": [
    "###### В данном случае наблюдается реверс рангов - ранее занимающее 2-е место альтернатива стала оптимальной, ранее 1-я стала делить 2-3-е места с новой, поскольку эти альтернативы эквивалентны, остальные сохранили свой порядок относительно своих старых приоритетов, имеет место реверс рангов типа 1 - \"изменение оптимальной альтернативы\"\n",
    "\n",
    "_До добавления альтернативы:_\n",
    "![image.png](attachment:image.png)\n",
    "\n",
    "_После:_\n",
    "![image-2.png](attachment:image-2.png)"
   ]
  },
  {
   "cell_type": "code",
   "execution_count": 43,
   "id": "995b44b0",
   "metadata": {},
   "outputs": [
    {
     "data": {
      "text/plain": [
       "array([0.2548194 , 0.29634939, 0.143633  , 0.0503788 , 0.2548194 ])"
      ]
     },
     "execution_count": 43,
     "metadata": {},
     "output_type": "execute_result"
    }
   ],
   "source": [
    "# вычисление глобальных весов альтернатив методом идеального синтеза:\n",
    "global_weights_ideal = calculate_weights_by_ideal_synthesis(normalized_local_weights, criteria_weights)\n",
    "global_weights_ideal"
   ]
  },
  {
   "attachments": {
    "image-2.png": {
     "image/png": "[encoded data removed]"
    },
    "image.png": {
     "image/png": "[encoded data removed]"
    }
   },
   "cell_type": "markdown",
   "id": "59405a40",
   "metadata": {},
   "source": [
    "###### В данном случае наблюдается реверс рангов - ранее занимающее 2-е место альтернатива стала оптимальной, ранее 1-я стала делить 2-3-е места с новой, поскольку эти альтернативы эквивалентны, остальные сохранили свой порядок относительно своих старых приоритетов, имеет место реверс рангов типа 1 - \"изменение оптимальной альтернативы\"\n",
    "\n",
    "_До добавления альтернативы:_\n",
    "![image.png](attachment:image.png)\n",
    "\n",
    "_После:_\n",
    "![image-2.png](attachment:image-2.png)"
   ]
  },
  {
   "cell_type": "code",
   "execution_count": 44,
   "id": "f5842020",
   "metadata": {},
   "outputs": [
    {
     "data": {
      "text/plain": [
       "array([0.2794669 , 0.22380419, 0.16071563, 0.05654639, 0.2794669 ])"
      ]
     },
     "execution_count": 44,
     "metadata": {},
     "output_type": "execute_result"
    }
   ],
   "source": [
    "# вычисление глобальных весов альтернатив методом мультипликативного синтеза:\n",
    "global_weights_multiplicative = calculate_weights_by_multiplicative_synthesis(normalized_local_weights, criteria_weights)\n",
    "global_weights_multiplicative"
   ]
  },
  {
   "attachments": {
    "image-2.png": {
     "image/png": "[encoded data removed]"
    },
    "image.png": {
     "image/png": "[encoded data removed]"
    }
   },
   "cell_type": "markdown",
   "id": "6e574387",
   "metadata": {},
   "source": [
    "###### В данном случае реверс рангов не наблюдается, новая альтернатива делит 1-2-е места с оптимальной, поскольку эквивалентна ей, остальные сохраняют порядок\n",
    "\n",
    "_До добавления альтернативы:_\n",
    "![image.png](attachment:image.png)\n",
    "\n",
    "_После:_\n",
    "![image-2.png](attachment:image-2.png)"
   ]
  },
  {
   "cell_type": "code",
   "execution_count": 45,
   "id": "ac1d9d51",
   "metadata": {},
   "outputs": [
    {
     "data": {
      "text/plain": [
       "[0.2664222375567655,\n",
       " 0.4131794250167307,\n",
       " 0.05126661487964945,\n",
       " 0.002709484990088905,\n",
       " 0.2664222375567655]"
      ]
     },
     "execution_count": 45,
     "metadata": {},
     "output_type": "execute_result"
    }
   ],
   "source": [
    "# вычисление глобальных весов альтернатив методом ГУБОПА с мультипликативным синтезом\n",
    "full_criteria_matrix = np.array([reliability_criteria_matrix, profit_criteria_matrix])\n",
    "global_comparisons_weights = calculate_weights_by_gabrpa_synthesis(full_criteria_matrix, criteria_weights)\n",
    "global_comparisons_weights"
   ]
  },
  {
   "attachments": {
    "image-3.png": {
     "image/png": "[encoded data removed]"
    },
    "image.png": {
     "image/png": "[encoded data removed]"
    }
   },
   "cell_type": "markdown",
   "id": "4aab8243",
   "metadata": {},
   "source": [
    "###### В данном случае наблюдается реверс рангов - ранее занимающее 2-е место альтернатива стала оптимальной, ранее 1-я стала делить 2-3-е места с новой, поскольку эти альтернативы эквивалентны, остальные сохранили свой порядок относительно своих старых приоритетов, имеет место реверс рангов типа 1 - \"изменение оптимальной альтернативы\". Также имеет место реверс рангов типа 3 - \"смена рангов альтернатив при их попарном рассмотрении по сравнению с рассмотрением всех альтернатив одновременно\", поскольку был использован метод поиска весов, основанный на парных сравнениях\n",
    "\n",
    "_До добавления альтернативы:_\n",
    "![image.png](attachment:image.png)\n",
    "\n",
    "_После:_\n",
    "![image-3.png](attachment:image-3.png)"
   ]
  }
 ],
 "metadata": {
  "kernelspec": {
   "display_name": "Python 3 (ipykernel)",
   "language": "python",
   "name": "python3"
  },
  "language_info": {
   "codemirror_mode": {
    "name": "ipython",
    "version": 3
   },
   "file_extension": ".py",
   "mimetype": "text/x-python",
   "name": "python",
   "nbconvert_exporter": "python",
   "pygments_lexer": "ipython3",
   "version": "3.10.4"
  }
 },
 "nbformat": 4,
 "nbformat_minor": 5
}
